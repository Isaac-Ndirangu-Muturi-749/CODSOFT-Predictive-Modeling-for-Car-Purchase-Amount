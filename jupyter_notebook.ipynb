{
 "cells": [
  {
   "cell_type": "markdown",
   "metadata": {},
   "source": [
    "DATA UNDERSTANDING\n",
    "Bank Dataset Analyzer\n",
    "This class, BankDatasetAnalyzer, is designed to analyze a dataset related to banking. It provides various methods to gather insights about the dataset, identify patterns, and address data quality issues. This class is part of a broader data analysis and preprocessing process.\n",
    "\n",
    "How It Works\n",
    "Initialization\n",
    "Import the necessary libraries: pandas, matplotlib.pyplot, seaborn, and numpy.\n",
    "\n",
    "Define a class named BankDatasetAnalyzer that takes the path to the dataset as a parameter during initialization (dataset_path).\n",
    "\n",
    "Inside the __init__ method, the dataset is loaded using pd.read_csv() and stored as an attribute (self.dataset).\n",
    "\n",
    "Data Exploration and Analysis Methods\n",
    "The class provides several methods to explore and analyze the dataset:\n",
    "\n",
    "preview_dataset(num_rows): Displays the first and last few rows of the dataset.\n",
    "\n",
    "check_columns_list(): Returns a list of columns in the dataset.\n",
    "\n",
    "explore_column_value_counts(): Prints the value counts for each column in the dataset.\n",
    "\n",
    "get_dataset_shape(): Returns the number of rows and columns in the dataset.\n",
    "\n",
    "get_dataset_info(): Displays information about the dataset, including data types and memory usage.\n",
    "\n",
    "get_dataset_description(): Provides a statistical description of the dataset, including measures like mean, min, max, and quartiles.\n",
    "\n",
    "analyze_duplicated_rows(): Counts and visualizes the percentage of duplicated rows in the dataset.\n",
    "\n",
    "analyze_missing_values(): Counts and visualizes the percentage of missing values for each column in the dataset.\n",
    "\n",
    "count_data_types(): Returns the count of data types present in the dataset.\n",
    "\n",
    "count_unique_values_by_dtype(): Counts and prints the number of unique values for integer, float, and object columns.\n",
    "\n",
    "Each method is designed to provide insights into different aspects of the dataset, helping to identify data quality issues, patterns, and trends."
   ]
  },
  {
   "cell_type": "code",
   "execution_count": null,
   "metadata": {},
   "outputs": [],
   "source": [
    "import pandas as pd\n",
    "import matplotlib.pyplot as plt\n",
    "import seaborn as sns\n",
    "import numpy as np\n",
    "\n",
    "class BankDatasetAnalyzer:\n",
    "    def __init__(self, dataset_path):\n",
    "        # Initialize the BankDatasetAnalyzer with the dataset path\n",
    "        self.dataset_path = dataset_path\n",
    "        self.dataset = pd.read_csv(dataset_path, delimiter=\";\")\n",
    "        \n",
    "    def preview_dataset(self, num_rows=5):\n",
    "        # Display the first few and last few rows of the dataset\n",
    "        print(f\"Preview of the dataset (first {num_rows} rows):\")\n",
    "        print(self.dataset.head(num_rows))\n",
    "        print(f\"Preview of the dataset (last {num_rows} rows):\")\n",
    "        print(self.dataset.tail(num_rows))\n",
    "\n",
    "    def check_columns_list(self):\n",
    "        # Get the list of columns in the dataset\n",
    "        return self.dataset.columns.tolist()\n",
    "\n",
    "    def explore_column_value_counts(self):\n",
    "        # Explore the value counts for each column\n",
    "        column_value_counts = {}\n",
    "\n",
    "        for column in self.dataset.columns:\n",
    "            column_value_counts[column] = self.dataset[column].value_counts()\n",
    "\n",
    "        for column, values in column_value_counts.items():\n",
    "            print(f\"Value Counts for Column '{column}':\\n{values}\\n\")\n",
    "\n",
    "    def get_dataset_shape(self):\n",
    "        # Get the shape of the dataset\n",
    "        return self.dataset.shape\n",
    "\n",
    "    def get_dataset_info(self):\n",
    "        # Get information about the dataset\n",
    "        return self.dataset.info()\n",
    "\n",
    "    def get_dataset_description(self):\n",
    "        # Get a statistical description of the dataset\n",
    "        return self.dataset.describe()\n",
    "\n",
    "    def analyze_duplicated_rows(self):\n",
    "        # Analyze duplicate rows\n",
    "        duplicate_count = self.dataset.duplicated().sum()\n",
    "\n",
    "        # Print duplicate rows count\n",
    "        print(\"Duplicate Rows Count:\", duplicate_count)\n",
    "\n",
    "        # Calculate the percentage of duplicate rows\n",
    "        duplicate_percentage = (duplicate_count / len(self.dataset)) * 100\n",
    "\n",
    "        # Create a bar chart to visualize the percentage of duplicate rows\n",
    "        plt.figure(figsize=(6, 4))\n",
    "        sns.barplot(x=[\"Duplicate Rows\", \"Non-Duplicate Rows\"],\n",
    "                    y=[duplicate_percentage, 100 - duplicate_percentage], color='skyblue', edgecolor='black')\n",
    "        plt.ylabel(\"Percentage (%)\")\n",
    "        plt.title(\"Percentage of Duplicated Rows\")\n",
    "        plt.tight_layout()\n",
    "        plt.show()\n",
    "    \n",
    "    def analyze_missing_values(self):\n",
    "        # Analyze missing values\n",
    "        missing_values_count = self.dataset.isnull().sum()\n",
    "\n",
    "        # Print missing values counts\n",
    "        print(\"Missing Values Counts:\")\n",
    "        print(missing_values_count)\n",
    "\n",
    "         # Calculate the percentage of missing values for each column\n",
    "        missing_percentage = (self.dataset.isnull().sum() / len(self.dataset)) * 100\n",
    "\n",
    "        # Create a bar chart to visualize the percentage of missing values\n",
    "        plt.figure(figsize=(10, 6))\n",
    "        sns.barplot(x=missing_percentage.index, y=missing_percentage.values, color='skyblue', edgecolor='black')\n",
    "        plt.xlabel('Columns')\n",
    "        plt.ylabel('Percentage of Missing Values')\n",
    "        plt.title('Percentage of Missing Values in Each Column')\n",
    "        plt.xticks(rotation=45)\n",
    "        plt.tight_layout()\n",
    "        plt.show()\n",
    "\n",
    "    def count_data_types(self):\n",
    "        # Count the data types in the dataset\n",
    "        return self.dataset.dtypes.value_counts()\n",
    "\n",
    "    def count_unique_values_by_dtype(self):\n",
    "         # Group columns by data type\n",
    "        data_types = self.dataset.dtypes\n",
    "\n",
    "        # Separate columns by data type\n",
    "        int_columns = data_types[data_types == 'int64'].index\n",
    "        float_columns = data_types[data_types == 'float64'].index\n",
    "        object_columns = data_types[data_types == 'object'].index\n",
    "        \n",
    "        print(\"Unique Values Counts by Data Type:\")\n",
    "\n",
    "        # Print columns and their counts for each data type\n",
    "        print(\"Integer Columns:\")\n",
    "        print(self.dataset[int_columns].nunique())\n",
    "\n",
    "        print(\"\\nFloat Columns:\")\n",
    "        print(self.dataset[float_columns].nunique())\n",
    "\n",
    "        print(\"\\nObject Columns:\")\n",
    "        print(self.dataset[object_columns].nunique())"
   ]
  },
  {
   "cell_type": "code",
   "execution_count": null,
   "metadata": {},
   "outputs": [],
   "source": [
    "# Create an instance of BankDatasetAnalyzer\n",
    "analyzer = BankDatasetAnalyzer(\"data/bank/bank-full.csv\")"
   ]
  },
  {
   "cell_type": "code",
   "execution_count": null,
   "metadata": {},
   "outputs": [],
   "source": [
    "# Preview the dataset\n",
    "analyzer.preview_dataset()"
   ]
  },
  {
   "cell_type": "code",
   "execution_count": null,
   "metadata": {},
   "outputs": [],
   "source": [
    "# Get the list of columns in the dataset\n",
    "columns_list = analyzer.check_columns_list()\n",
    "print(\"Columns in the dataset:\", columns_list)"
   ]
  },
  {
   "cell_type": "code",
   "execution_count": null,
   "metadata": {},
   "outputs": [],
   "source": [
    "# Explore value counts for each column\n",
    "analyzer.explore_column_value_counts()"
   ]
  },
  {
   "cell_type": "code",
   "execution_count": null,
   "metadata": {},
   "outputs": [],
   "source": [
    "# Get the shape of the dataset\n",
    "dataset_shape = analyzer.get_dataset_shape()\n",
    "print(\"Shape of the dataset:\", dataset_shape)"
   ]
  },
  {
   "cell_type": "code",
   "execution_count": null,
   "metadata": {},
   "outputs": [],
   "source": [
    "# Get information about the dataset\n",
    "dataset_info = analyzer.get_dataset_info()\n",
    "print(\"Information about the dataset:\")\n",
    "print(dataset_info)"
   ]
  },
  {
   "cell_type": "code",
   "execution_count": null,
   "metadata": {},
   "outputs": [],
   "source": [
    "# Get a statistical description of the dataset\n",
    "dataset_description = analyzer.get_dataset_description()\n",
    "print(\"Statistical description of the dataset:\")\n",
    "print(dataset_description)"
   ]
  },
  {
   "cell_type": "code",
   "execution_count": null,
   "metadata": {},
   "outputs": [],
   "source": [
    "# Analyze duplicate rows and visualize the percentage\n",
    "analyzer.analyze_duplicated_rows()"
   ]
  },
  {
   "cell_type": "code",
   "execution_count": null,
   "metadata": {},
   "outputs": [],
   "source": [
    "# Analyze missing values and visualize the percentage\n",
    "analyzer.analyze_missing_values()"
   ]
  },
  {
   "cell_type": "code",
   "execution_count": null,
   "metadata": {},
   "outputs": [],
   "source": [
    "# Count data types in the dataset\n",
    "data_type_counts = analyzer.count_data_types()\n",
    "print(\"Data types counts:\")\n",
    "print(data_type_counts)"
   ]
  },
  {
   "cell_type": "code",
   "execution_count": null,
   "metadata": {},
   "outputs": [],
   "source": [
    "# Count unique values by data type\n",
    "analyzer.count_unique_values_by_dtype()"
   ]
  },
  {
   "cell_type": "markdown",
   "metadata": {},
   "source": [
    "EDA"
   ]
  },
  {
   "cell_type": "code",
   "execution_count": null,
   "metadata": {},
   "outputs": [],
   "source": [
    "mport matplotlib.pyplot as plt\n",
    "import seaborn as sns\n",
    "\n",
    "class UnivariateVisualizer:\n",
    "    def __init__(self, data):\n",
    "        self.data = data\n",
    "        self.categorical_vars = self.data.select_dtypes(include=['object']).columns.tolist()\n",
    "        self.continuous_vars = self.data.select_dtypes(include=['int64', 'float64']).columns.tolist()\n",
    "        sns.set_palette(\"pastel\")\n",
    "\n",
    "    def plot_categorical_distribution(self):\n",
    "        num_cat_vars = len(self.categorical_vars)\n",
    "        num_rows = (num_cat_vars + 1) // 2  # Adjust number of rows\n",
    "        num_cols = 2  # Fixed number of columns\n",
    "\n",
    "        fig, axes = plt.subplots(nrows=num_rows, ncols=num_cols, figsize=(18, 6 * num_rows))\n",
    "        for ax, cat_var in zip(axes.flatten(), self.categorical_vars):\n",
    "            sns.countplot(data=self.data, x=cat_var, ax=ax)\n",
    "            ax.set_title(f'Distribution of {cat_var}\\n')\n",
    "            ax.set_ylabel('Count')\n",
    "            ax.set_xlabel(cat_var)\n",
    "            ax.tick_params(axis='x', rotation=45)\n",
    "        plt.tight_layout()\n",
    "        plt.show()\n",
    "\n",
    "    def plot_continuous_distribution(self):\n",
    "        num_cont_vars = len(self.continuous_vars)\n",
    "        num_rows = (num_cont_vars + 2) // 3  # Adjust number of rows\n",
    "        num_cols = 3  # Fixed number of columns\n",
    "\n",
    "        fig, axes = plt.subplots(nrows=num_rows, ncols=num_cols, figsize=(18, 6 * num_rows))\n",
    "        for ax, cont_var in zip(axes.flatten(), self.continuous_vars):\n",
    "            sns.histplot(data=self.data, x=cont_var, bins=20, kde=True, ax=ax)\n",
    "            ax.set_title(f'Distribution of {cont_var}\\n')\n",
    "            ax.set_ylabel('Count')\n",
    "            ax.set_xlabel(cont_var)\n",
    "            ax.tick_params(axis='x', rotation=45)\n",
    "        plt.tight_layout()\n",
    "        plt.show()\n",
    "# Create an instance of the UnivariateVisualizer class\n",
    "visualizer = UnivariateVisualizer(analyzer.dataset)\n",
    "# Plot categorical distribution\n",
    "visualizer.plot_categorical_distribution()"
   ]
  }
 ],
 "metadata": {
  "kernelspec": {
   "display_name": "learn-env",
   "language": "python",
   "name": "python3"
  },
  "language_info": {
   "name": "python",
   "version": "3.8.5"
  },
  "orig_nbformat": 4
 },
 "nbformat": 4,
 "nbformat_minor": 2
}
