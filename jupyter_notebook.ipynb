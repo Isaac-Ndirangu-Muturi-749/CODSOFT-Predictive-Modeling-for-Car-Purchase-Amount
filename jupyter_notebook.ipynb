{
 "cells": [
  {
   "cell_type": "markdown",
   "metadata": {},
   "source": [
    "# DATA UNDERSTANDING\n",
    "\n",
    "# Bank Dataset Analyzer\n",
    "\n",
    "This class, `DatasetAnalyzer`, is designed to analyze a dataset related to banking. It provides various methods to gather insights about the dataset, identify patterns, and address data quality issues. This class is part of a broader data analysis and preprocessing process.\n",
    "\n",
    "## How It Works\n",
    "\n",
    "### Initialization\n",
    "\n",
    "1. Import the necessary libraries: `pandas`, `matplotlib.pyplot`, `seaborn`, and `numpy`.\n",
    "\n",
    "2. Define a class named `DatasetAnalyzer` that takes the path to the dataset as a parameter during initialization (`dataset_path`).\n",
    "\n",
    "3. Inside the `__init__` method, the dataset is loaded using `pd.read_csv()` and stored as an attribute (`self.dataset`).\n",
    "\n",
    "### Data Exploration and Analysis Methods\n",
    "\n",
    "The class provides several methods to explore and analyze the dataset:\n",
    "\n",
    "- `preview_dataset(num_rows)`: Displays the first and last few rows of the dataset.\n",
    "\n",
    "- `check_columns_list()`: Returns a list of columns in the dataset.\n",
    "\n",
    "- `explore_column_value_counts()`: Prints the value counts for each column in the dataset.\n",
    "\n",
    "- `get_dataset_shape()`: Returns the number of rows and columns in the dataset.\n",
    "\n",
    "- `get_dataset_info()`: Displays information about the dataset, including data types and memory usage.\n",
    "\n",
    "- `get_dataset_description()`: Provides a statistical description of the dataset, including measures like mean, min, max, and quartiles.\n",
    "\n",
    "- `analyze_duplicated_rows()`: Counts and visualizes the percentage of duplicated rows in the dataset.\n",
    "\n",
    "- `analyze_missing_values()`: Counts and visualizes the percentage of missing values for each column in the dataset.\n",
    "\n",
    "- `count_data_types()`: Returns the count of data types present in the dataset.\n",
    "\n",
    "- `count_unique_values_by_dtype()`: Counts and prints the number of unique values for integer, float, and object columns.\n",
    "\n",
    "Each method is designed to provide insights into different aspects of the dataset, helping to identify data quality issues, patterns, and trends."
   ]
  },
  {
   "cell_type": "code",
   "execution_count": 12,
   "metadata": {},
   "outputs": [],
   "source": [
    "import pandas as pd\n",
    "import matplotlib.pyplot as plt\n",
    "import seaborn as sns\n",
    "import numpy as np\n",
    "\n",
    "class DatasetAnalyzer:\n",
    "    def __init__(self, dataset_path, delimiter=',', encoding='utf-8'):\n",
    "        # Initialize the DatasetAnalyzer with the dataset path, delimiter, and encoding\n",
    "        self.dataset_path = dataset_path\n",
    "        self.delimiter = delimiter\n",
    "        self.encoding = encoding\n",
    "        self.dataset = pd.read_csv(dataset_path, delimiter=self.delimiter, encoding=self.encoding)\n",
    "\n",
    "    def preview_dataset(self, num_rows=5):\n",
    "        # Display the first few and last few rows of the dataset\n",
    "        print(f\"Preview of the dataset (first {num_rows} rows):\")\n",
    "        print(self.dataset.head(num_rows))\n",
    "        print(f\"Preview of the dataset (last {num_rows} rows):\")\n",
    "        print(self.dataset.tail(num_rows))\n",
    "\n",
    "    def check_columns_list(self):\n",
    "        # Get the list of columns in the dataset\n",
    "        return self.dataset.columns.tolist()\n",
    "\n",
    "    def explore_column_value_counts(self):\n",
    "        # Explore the value counts for each column\n",
    "        column_value_counts = {}\n",
    "\n",
    "        for column in self.dataset.columns:\n",
    "            column_value_counts[column] = self.dataset[column].value_counts()\n",
    "\n",
    "        for column, values in column_value_counts.items():\n",
    "            print(f\"Value Counts for Column '{column}':\\n{values}\\n\")\n",
    "\n",
    "    def get_dataset_shape(self):\n",
    "        # Get the shape of the dataset\n",
    "        return self.dataset.shape\n",
    "\n",
    "    def get_dataset_info(self):\n",
    "        # Get information about the dataset\n",
    "        return self.dataset.info()\n",
    "\n",
    "    def get_dataset_description(self):\n",
    "        # Get a statistical description of the dataset\n",
    "        return self.dataset.describe()\n",
    "\n",
    "    def analyze_duplicated_rows(self):\n",
    "        # Analyze duplicate rows\n",
    "        duplicate_count = self.dataset.duplicated().sum()\n",
    "\n",
    "        # Print duplicate rows count\n",
    "        print(\"Duplicate Rows Count:\", duplicate_count)\n",
    "\n",
    "        # Calculate the percentage of duplicate rows\n",
    "        duplicate_percentage = (duplicate_count / len(self.dataset)) * 100\n",
    "\n",
    "        # Create a bar chart to visualize the percentage of duplicate rows\n",
    "        plt.figure(figsize=(6, 4))\n",
    "        sns.barplot(x=[\"Duplicate Rows\", \"Non-Duplicate Rows\"],\n",
    "                    y=[duplicate_percentage, 100 - duplicate_percentage], color='skyblue', edgecolor='black')\n",
    "        plt.ylabel(\"Percentage (%)\")\n",
    "        plt.title(\"Percentage of Duplicated Rows\")\n",
    "        plt.tight_layout()\n",
    "        plt.show()\n",
    "\n",
    "    def analyze_missing_values(self):\n",
    "        # Analyze missing values\n",
    "        missing_values_count = self.dataset.isnull().sum()\n",
    "\n",
    "        # Print missing values counts\n",
    "        print(\"Missing Values Counts:\")\n",
    "        print(missing_values_count)\n",
    "\n",
    "         # Calculate the percentage of missing values for each column\n",
    "        missing_percentage = (self.dataset.isnull().sum() / len(self.dataset)) * 100\n",
    "\n",
    "        # Create a bar chart to visualize the percentage of missing values\n",
    "        plt.figure(figsize=(10, 6))\n",
    "        sns.barplot(x=missing_percentage.index, y=missing_percentage.values, color='skyblue', edgecolor='black')\n",
    "        plt.xlabel('Columns')\n",
    "        plt.ylabel('Percentage of Missing Values')\n",
    "        plt.title('Percentage of Missing Values in Each Column')\n",
    "        plt.xticks(rotation=45)\n",
    "        plt.tight_layout()\n",
    "        plt.show()\n",
    "\n",
    "    def count_data_types(self):\n",
    "        # Count the data types in the dataset\n",
    "        return self.dataset.dtypes.value_counts()\n",
    "\n",
    "    def count_unique_values_by_dtype(self):\n",
    "         # Group columns by data type\n",
    "        data_types = self.dataset.dtypes\n",
    "\n",
    "        # Separate columns by data type\n",
    "        int_columns = data_types[data_types == 'int64'].index\n",
    "        float_columns = data_types[data_types == 'float64'].index\n",
    "        object_columns = data_types[data_types == 'object'].index\n",
    "\n",
    "        print(\"Unique Values Counts by Data Type:\")\n",
    "\n",
    "        # Print columns and their counts for each data type\n",
    "        print(\"Integer Columns:\")\n",
    "        print(self.dataset[int_columns].nunique())\n",
    "\n",
    "        print(\"\\nFloat Columns:\")\n",
    "        print(self.dataset[float_columns].nunique())\n",
    "\n",
    "        print(\"\\nObject Columns:\")\n",
    "        print(self.dataset[object_columns].nunique())"
   ]
  },
  {
   "cell_type": "code",
   "execution_count": 13,
   "metadata": {},
   "outputs": [],
   "source": [
    "# Create an instance of DatasetAnalyzer\n",
    "analyzer = DatasetAnalyzer(\"data/car_purchasing.csv\", encoding='latin1')\n",
    "\n",
    "\n"
   ]
  },
  {
   "cell_type": "code",
   "execution_count": 14,
   "metadata": {},
   "outputs": [
    {
     "name": "stdout",
     "output_type": "stream",
     "text": [
      "Preview of the dataset (first 5 rows):\n",
      "     customer name                                    customer e-mail  \\\n",
      "0    Martina Avila  cubilia.Curae.Phasellus@quisaccumsanconvallis.edu   \n",
      "1    Harlan Barnes                                eu.dolor@diam.co.uk   \n",
      "2  Naomi Rodriquez  vulputate.mauris.sagittis@ametconsectetueradip...   \n",
      "3  Jade Cunningham                            malesuada@dignissim.com   \n",
      "4     Cedric Leach     felis.ullamcorper.viverra@egetmollislectus.net   \n",
      "\n",
      "        country  gender        age  annual Salary  credit card debt  \\\n",
      "0      Bulgaria       0  41.851720    62812.09301      11609.380910   \n",
      "1        Belize       0  40.870623    66646.89292       9572.957136   \n",
      "2       Algeria       1  43.152897    53798.55112      11160.355060   \n",
      "3  Cook Islands       1  58.271369    79370.03798      14426.164850   \n",
      "4        Brazil       1  57.313749    59729.15130       5358.712177   \n",
      "\n",
      "     net worth  car purchase amount  \n",
      "0  238961.2505          35321.45877  \n",
      "1  530973.9078          45115.52566  \n",
      "2  638467.1773          42925.70921  \n",
      "3  548599.0524          67422.36313  \n",
      "4  560304.0671          55915.46248  \n",
      "Preview of the dataset (last 5 rows):\n",
      "    customer name                     customer e-mail      country  gender  \\\n",
      "495        Walter                 ligula@Cumsociis.ca        Nepal       0   \n",
      "496         Vanna  Cum.sociis.natoque@Sedmolestie.edu     Zimbabwe       1   \n",
      "497         Pearl       penatibus.et@massanonante.com  Philippines       1   \n",
      "498          Nell   Quisque.varius@arcuVivamussit.net     Botswana       1   \n",
      "499         Marla           Camaron.marla@hotmail.com       marlal       1   \n",
      "\n",
      "           age  annual Salary  credit card debt    net worth  \\\n",
      "495  41.462515    71942.40291       6995.902524  541670.1016   \n",
      "496  37.642000    56039.49793      12301.456790  360419.0988   \n",
      "497  53.943497    68888.77805      10611.606860  764531.3203   \n",
      "498  59.160509    49811.99062      14013.034510  337826.6382   \n",
      "499  46.731152    61370.67766       9391.341628  462946.4924   \n",
      "\n",
      "     car purchase amount  \n",
      "495          48901.44342  \n",
      "496          31491.41457  \n",
      "497          64147.28888  \n",
      "498          45442.15353  \n",
      "499          45107.22566  \n"
     ]
    }
   ],
   "source": [
    "# Preview the dataset\n",
    "analyzer.preview_dataset()"
   ]
  },
  {
   "cell_type": "code",
   "execution_count": 15,
   "metadata": {},
   "outputs": [
    {
     "name": "stdout",
     "output_type": "stream",
     "text": [
      "Columns in the dataset: ['customer name', 'customer e-mail', 'country', 'gender', 'age', 'annual Salary', 'credit card debt', 'net worth', 'car purchase amount']\n"
     ]
    }
   ],
   "source": [
    "# Get the list of columns in the dataset\n",
    "columns_list = analyzer.check_columns_list()\n",
    "print(\"Columns in the dataset:\", columns_list)"
   ]
  },
  {
   "cell_type": "code",
   "execution_count": 16,
   "metadata": {},
   "outputs": [
    {
     "name": "stdout",
     "output_type": "stream",
     "text": [
      "Value Counts for Column 'customer name':\n",
      "Walter                 2\n",
      "Seth                   2\n",
      "Olivia                 1\n",
      "Ulysses Craig          1\n",
      "Kaitlin                1\n",
      "                      ..\n",
      "Adrienne               1\n",
      "Armstrong, Hedda N.    1\n",
      "Gloria                 1\n",
      "Stone Hunt             1\n",
      "Penelope               1\n",
      "Name: customer name, Length: 498, dtype: int64\n",
      "\n",
      "Value Counts for Column 'customer e-mail':\n",
      "elit.elit.fermentum@erosturpisnon.org    1\n",
      "non.sapien@seddictumeleifend.edu         1\n",
      "blandit@nunc.org                         1\n",
      "nonummy@ornareelitelit.org               1\n",
      "metus.vitae@Morbisitamet.ca              1\n",
      "                                        ..\n",
      "Curabitur.consequat@miDuisrisus.com      1\n",
      "est.congue@Nunc.edu                      1\n",
      "nec@nuncest.com                          1\n",
      "felis@orciconsectetuereuismod.ca         1\n",
      "sociis@vulputateveliteu.com              1\n",
      "Name: customer e-mail, Length: 500, dtype: int64\n",
      "\n",
      "Value Counts for Column 'country':\n",
      "Israel         6\n",
      "Bolivia        6\n",
      "Mauritania     6\n",
      "Samoa          5\n",
      "Greenland      5\n",
      "              ..\n",
      "New Zealand    1\n",
      "Honduras       1\n",
      "Japan          1\n",
      "Lebanon        1\n",
      "Cameroon       1\n",
      "Name: country, Length: 211, dtype: int64\n",
      "\n",
      "Value Counts for Column 'gender':\n",
      "1    253\n",
      "0    247\n",
      "Name: gender, dtype: int64\n",
      "\n",
      "Value Counts for Column 'age':\n",
      "35.392918    1\n",
      "47.797775    1\n",
      "42.371104    1\n",
      "54.113820    1\n",
      "36.969534    1\n",
      "            ..\n",
      "40.601781    1\n",
      "40.201256    1\n",
      "36.659970    1\n",
      "37.722824    1\n",
      "70.000000    1\n",
      "Name: age, Length: 500, dtype: int64\n",
      "\n",
      "Value Counts for Column 'annual Salary':\n",
      "47684.46306    1\n",
      "69248.49530    1\n",
      "49398.74439    1\n",
      "70896.72853    1\n",
      "70051.94033    1\n",
      "              ..\n",
      "55619.34152    1\n",
      "79792.13096    1\n",
      "70076.22764    1\n",
      "48123.36983    1\n",
      "20000.00000    1\n",
      "Name: annual Salary, Length: 500, dtype: int64\n",
      "\n",
      "Value Counts for Column 'credit card debt':\n",
      "8907.661779     1\n",
      "11417.462570    1\n",
      "12998.472320    1\n",
      "17805.576070    1\n",
      "9245.466786     1\n",
      "               ..\n",
      "9851.578109     1\n",
      "7840.293189     1\n",
      "5627.803654     1\n",
      "12848.200610    1\n",
      "9724.031647     1\n",
      "Name: credit card debt, Length: 500, dtype: int64\n",
      "\n",
      "Value Counts for Column 'net worth':\n",
      "266531.29690    1\n",
      "854283.55740    1\n",
      "762601.08360    1\n",
      "97706.89181     1\n",
      "556014.97040    1\n",
      "               ..\n",
      "375889.63810    1\n",
      "383693.20410    1\n",
      "510811.36950    1\n",
      "173272.89540    1\n",
      "20000.00000     1\n",
      "Name: net worth, Length: 500, dtype: int64\n",
      "\n",
      "Value Counts for Column 'car purchase amount':\n",
      "42978.34626    1\n",
      "47719.47741    1\n",
      "50296.67496    1\n",
      "52785.16947    1\n",
      "41679.79290    1\n",
      "              ..\n",
      "46412.47781    1\n",
      "63140.05082    1\n",
      "44736.41097    1\n",
      "44650.36073    1\n",
      "45509.69732    1\n",
      "Name: car purchase amount, Length: 500, dtype: int64\n",
      "\n"
     ]
    }
   ],
   "source": [
    "# Explore value counts for each column\n",
    "analyzer.explore_column_value_counts()"
   ]
  },
  {
   "cell_type": "code",
   "execution_count": 17,
   "metadata": {},
   "outputs": [
    {
     "name": "stdout",
     "output_type": "stream",
     "text": [
      "Shape of the dataset: (500, 9)\n"
     ]
    }
   ],
   "source": [
    "# Get the shape of the dataset\n",
    "dataset_shape = analyzer.get_dataset_shape()\n",
    "print(\"Shape of the dataset:\", dataset_shape)"
   ]
  },
  {
   "cell_type": "code",
   "execution_count": 18,
   "metadata": {},
   "outputs": [
    {
     "name": "stdout",
     "output_type": "stream",
     "text": [
      "<class 'pandas.core.frame.DataFrame'>\n",
      "RangeIndex: 500 entries, 0 to 499\n",
      "Data columns (total 9 columns):\n",
      " #   Column               Non-Null Count  Dtype  \n",
      "---  ------               --------------  -----  \n",
      " 0   customer name        500 non-null    object \n",
      " 1   customer e-mail      500 non-null    object \n",
      " 2   country              500 non-null    object \n",
      " 3   gender               500 non-null    int64  \n",
      " 4   age                  500 non-null    float64\n",
      " 5   annual Salary        500 non-null    float64\n",
      " 6   credit card debt     500 non-null    float64\n",
      " 7   net worth            500 non-null    float64\n",
      " 8   car purchase amount  500 non-null    float64\n",
      "dtypes: float64(5), int64(1), object(3)\n",
      "memory usage: 35.3+ KB\n",
      "Information about the dataset:\n",
      "None\n"
     ]
    }
   ],
   "source": [
    "# Get information about the dataset\n",
    "dataset_info = analyzer.get_dataset_info()\n",
    "print(\"Information about the dataset:\")\n",
    "print(dataset_info)"
   ]
  },
  {
   "cell_type": "code",
   "execution_count": 19,
   "metadata": {},
   "outputs": [
    {
     "name": "stdout",
     "output_type": "stream",
     "text": [
      "Statistical description of the dataset:\n",
      "           gender         age  annual Salary  credit card debt  \\\n",
      "count  500.000000  500.000000     500.000000        500.000000   \n",
      "mean     0.506000   46.241674   62127.239608       9607.645049   \n",
      "std      0.500465    7.978862   11703.378228       3489.187973   \n",
      "min      0.000000   20.000000   20000.000000        100.000000   \n",
      "25%      0.000000   40.949969   54391.977195       7397.515792   \n",
      "50%      1.000000   46.049901   62915.497035       9655.035568   \n",
      "75%      1.000000   51.612263   70117.862005      11798.867488   \n",
      "max      1.000000   70.000000  100000.000000      20000.000000   \n",
      "\n",
      "            net worth  car purchase amount  \n",
      "count      500.000000           500.000000  \n",
      "mean    431475.713625         44209.799218  \n",
      "std     173536.756340         10773.178744  \n",
      "min      20000.000000          9000.000000  \n",
      "25%     299824.195900         37629.896040  \n",
      "50%     426750.120650         43997.783390  \n",
      "75%     557324.478725         51254.709517  \n",
      "max    1000000.000000         80000.000000  \n"
     ]
    }
   ],
   "source": [
    "# Get a statistical description of the dataset\n",
    "dataset_description = analyzer.get_dataset_description()\n",
    "print(\"Statistical description of the dataset:\")\n",
    "print(dataset_description)"
   ]
  },
  {
   "cell_type": "code",
   "execution_count": 20,
   "metadata": {},
   "outputs": [
    {
     "name": "stdout",
     "output_type": "stream",
     "text": [
      "Duplicate Rows Count: 0\n"
     ]
    },
    {
     "data": {
      "image/png": "[encoded data removed]",
      "text/plain": [
       "<Figure size 600x400 with 1 Axes>"
      ]
     },
     "metadata": {},
     "output_type": "display_data"
    }
   ],
   "source": [
    "# Analyze duplicate rows and visualize the percentage\n",
    "analyzer.analyze_duplicated_rows()"
   ]
  },
  {
   "cell_type": "code",
   "execution_count": 21,
   "metadata": {},
   "outputs": [
    {
     "name": "stdout",
     "output_type": "stream",
     "text": [
      "Missing Values Counts:\n",
      "customer name          0\n",
      "customer e-mail        0\n",
      "country                0\n",
      "gender                 0\n",
      "age                    0\n",
      "annual Salary          0\n",
      "credit card debt       0\n",
      "net worth              0\n",
      "car purchase amount    0\n",
      "dtype: int64\n"
     ]
    },
    {
     "data": {
      "image/png": "[encoded data removed]",
      "text/plain": [
       "<Figure size 1000x600 with 1 Axes>"
      ]
     },
     "metadata": {},
     "output_type": "display_data"
    }
   ],
   "source": [
    "# Analyze missing values and visualize the percentage\n",
    "analyzer.analyze_missing_values()"
   ]
  },
  {
   "cell_type": "code",
   "execution_count": 22,
   "metadata": {},
   "outputs": [
    {
     "name": "stdout",
     "output_type": "stream",
     "text": [
      "Data types counts:\n",
      "float64    5\n",
      "object     3\n",
      "int64      1\n",
      "dtype: int64\n"
     ]
    }
   ],
   "source": [
    "# Count data types in the dataset\n",
    "data_type_counts = analyzer.count_data_types()\n",
    "print(\"Data types counts:\")\n",
    "print(data_type_counts)"
   ]
  },
  {
   "cell_type": "code",
   "execution_count": 23,
   "metadata": {},
   "outputs": [
    {
     "name": "stdout",
     "output_type": "stream",
     "text": [
      "Unique Values Counts by Data Type:\n",
      "Integer Columns:\n",
      "gender    2\n",
      "dtype: int64\n",
      "\n",
      "Float Columns:\n",
      "age                    500\n",
      "annual Salary          500\n",
      "credit card debt       500\n",
      "net worth              500\n",
      "car purchase amount    500\n",
      "dtype: int64\n",
      "\n",
      "Object Columns:\n",
      "customer name      498\n",
      "customer e-mail    500\n",
      "country            211\n",
      "dtype: int64\n"
     ]
    }
   ],
   "source": [
    "# Count unique values by data type\n",
    "analyzer.count_unique_values_by_dtype()"
   ]
  },
  {
   "cell_type": "markdown",
   "metadata": {},
   "source": [
    "EDA"
   ]
  },
  {
   "cell_type": "code",
   "execution_count": null,
   "metadata": {},
   "outputs": [],
   "source": []
  }
 ],
 "metadata": {
  "kernelspec": {
   "display_name": "learn-env",
   "language": "python",
   "name": "python3"
  },
  "language_info": {
   "codemirror_mode": {
    "name": "ipython",
    "version": 3
   },
   "file_extension": ".py",
   "mimetype": "text/x-python",
   "name": "python",
   "nbconvert_exporter": "python",
   "pygments_lexer": "ipython3",
   "version": "3.8.5"
  },
  "orig_nbformat": 4
 },
 "nbformat": 4,
 "nbformat_minor": 2
}
